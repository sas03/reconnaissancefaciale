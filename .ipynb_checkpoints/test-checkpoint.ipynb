{
 "cells": [
  {
   "cell_type": "code",
   "execution_count": 1,
   "metadata": {},
   "outputs": [],
   "source": [
    "import tkinter as tk\n",
    "from tkinter import ttk\n",
    "from tkinter.messagebox import *"
   ]
  },
  {
   "cell_type": "code",
   "execution_count": null,
   "metadata": {},
   "outputs": [],
   "source": [
    "L ={}\n",
    "window = tk.Tk()\n",
    "window.geometry('800x500+270+100')\n",
    "window.title(\"Criminel Case\")\n",
    "window.resizable(False,False)\n",
    "expression = tk.StringVar()\n",
    "#expression.set(\"6*7\")   # texte par défaut affiché dans l'entrée\n",
    "entree = tk.Entry(window, textvariable = expression, width = 30)\n",
    "entree.pack()\n",
    "\n",
    "resultat = tk.StringVar()\n",
    "sortie = tk.Label(window, textvariable = resultat)\n",
    "sortie.pack()\n",
    "\n",
    "\n",
    "\n",
    "#print(listeWidgets) \n",
    "window.mainloop()\n",
    "print(expression.get())"
   ]
  },
  {
   "cell_type": "code",
   "execution_count": null,
   "metadata": {},
   "outputs": [],
   "source": []
  },
  {
   "cell_type": "code",
   "execution_count": null,
   "metadata": {},
   "outputs": [],
   "source": []
  },
  {
   "cell_type": "code",
   "execution_count": null,
   "metadata": {},
   "outputs": [],
   "source": []
  }
 ],
 "metadata": {
  "kernelspec": {
   "display_name": "Python 3",
   "language": "python",
   "name": "python3"
  },
  "language_info": {
   "codemirror_mode": {
    "name": "ipython",
    "version": 3
   },
   "file_extension": ".py",
   "mimetype": "text/x-python",
   "name": "python",
   "nbconvert_exporter": "python",
   "pygments_lexer": "ipython3",
   "version": "3.7.4"
  }
 },
 "nbformat": 4,
 "nbformat_minor": 4
}
